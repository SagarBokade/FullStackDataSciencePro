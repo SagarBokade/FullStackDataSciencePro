{
 "cells": [
  {
   "cell_type": "markdown",
   "id": "68f5d6d3-c8fc-4a3a-8ff5-db4ae34a7c7b",
   "metadata": {},
   "source": [
    "**Python Basics Variable**"
   ]
  },
  {
   "cell_type": "markdown",
   "id": "93184895-ba42-4e70-8cff-165f84f83ab1",
   "metadata": {},
   "source": [
    "1. Declare two variables, `x` and `y`, and assign them integer values. Swap the\n",
    "values of these variables without using any temporary variable."
   ]
  },
  {
   "cell_type": "code",
   "execution_count": 3,
   "id": "65814383-6124-44e3-bc13-c45ce76ef0c5",
   "metadata": {},
   "outputs": [
    {
     "name": "stdout",
     "output_type": "stream",
     "text": [
      " Before Swapping Value x:5 & y:10\n",
      " After Swaping Value x:10 & y:5\n"
     ]
    }
   ],
   "source": [
    "# assigning value to variable \"x\"\n",
    "x = 5\n",
    "# assigning value to variable \"y\"\n",
    "y = 10\n",
    "\n",
    "#Printing the value before swapping\n",
    "print(f\" Before Swapping Value x:{x} & y:{y}\")\n",
    "\n",
    "#Swapping the values\n",
    "x,y = y,x\n",
    "\n",
    "#Printing the value after swapping\n",
    "print(f\" After Swaping Value x:{x} & y:{y}\")\n",
    "\n",
    "#Swapped the value of x and y without using any temporary variable."
   ]
  },
  {
   "cell_type": "markdown",
   "id": "f4a74402-eb4f-4e3c-9b3b-aa6a76c21b0d",
   "metadata": {},
   "source": [
    "2. Create a program that calculates the area of a rectangle. Take the length and\n",
    "width as inputs from the user and store them in variables. Calculate and\n",
    "display the area."
   ]
  },
  {
   "cell_type": "code",
   "execution_count": 5,
   "id": "5b729ddd-fba1-4f4a-8dad-8de8459fbc45",
   "metadata": {},
   "outputs": [
    {
     "name": "stdin",
     "output_type": "stream",
     "text": [
      "Enter the length of the rectangle : 5\n",
      "Enter the width of the rectangle : 4\n"
     ]
    },
    {
     "name": "stdout",
     "output_type": "stream",
     "text": [
      " Area of rectangle of length : 5.0 and width : 4.0 is 20.0 sq unit.\n"
     ]
    }
   ],
   "source": [
    "# Taking input of length of rectangle from user in float datatype as length can be in decimals too\n",
    "length = float(input(\"Enter the length of the rectangle :\"))\n",
    "# Taking input of width of rectangle from user in float datatype as width can be in decimals too\n",
    "width = float(input(\"Enter the width of the rectangle :\"))\n",
    "\n",
    "# calculating the area of rectangle by taking product of length and width\n",
    "area = length * width\n",
    "\n",
    "# displaying the result: Area of rectangle \n",
    "print(f\" Area of rectangle of length : {length} and width : {width} is {area} sq unit.\")"
   ]
  },
  {
   "cell_type": "markdown",
   "id": "ab476081-2168-4931-89e0-6cf8709a7f83",
   "metadata": {},
   "source": [
    "3. Write a Python program that converts temperatures from Celsius to\n",
    "Fahrenheit. Take the temperature in Celsius as input, store it in a variable,\n",
    "convert it to Fahrenheit, and display the result."
   ]
  },
  {
   "cell_type": "code",
   "execution_count": 7,
   "id": "0532ffd9-f6a6-4147-aaa5-e7ed5e05fbf8",
   "metadata": {},
   "outputs": [
    {
     "name": "stdin",
     "output_type": "stream",
     "text": [
      " Enter the temperature in Celsius:  45.2\n"
     ]
    },
    {
     "name": "stdout",
     "output_type": "stream",
     "text": [
      "Temprature in fahrenheit: 113.36\n"
     ]
    }
   ],
   "source": [
    "celsius = float(input(\" Enter the temperature in Celsius: \"))\n",
    "\n",
    "fahrenheit = (celsius * 9/5) + 32\n",
    "\n",
    "print(f\"Temprature in fahrenheit: {fahrenheit}\")"
   ]
  },
  {
   "cell_type": "markdown",
   "id": "e5433bd1-5f2d-4efa-b9b1-af8830aa48b7",
   "metadata": {},
   "source": [
    "**String based questions**"
   ]
  },
  {
   "cell_type": "markdown",
   "id": "9b5b5878-939c-4011-85a6-9a694a5a8416",
   "metadata": {},
   "source": [
    "1. Write a Python program that takes a string as input and prints the length of\n",
    "the string."
   ]
  },
  {
   "cell_type": "code",
   "execution_count": 10,
   "id": "0e75f5db-0f79-4de4-a3d3-1b80c6d43924",
   "metadata": {},
   "outputs": [
    {
     "name": "stdin",
     "output_type": "stream",
     "text": [
      "Enter a Input string :  sagar bokade\n"
     ]
    },
    {
     "name": "stdout",
     "output_type": "stream",
     "text": [
      " Length of entered string is 12\n"
     ]
    }
   ],
   "source": [
    "# Taking input as string from user\n",
    "string = str(input(\"Enter a Input string : \"))\n",
    "\n",
    "# Calculating the length of string\n",
    "length = len(string)\n",
    "\n",
    "#displaying the length of the string\n",
    "print(f\" Length of entered string is {length}\")"
   ]
  },
  {
   "cell_type": "markdown",
   "id": "89a59ab9-1247-40cb-8a81-1ffaf0f77a5c",
   "metadata": {},
   "source": [
    "2. Create a program that takes a sentence from the user and counts the number\n",
    "of vowels (a, e, i, o, u) in the string."
   ]
  },
  {
   "cell_type": "code",
   "execution_count": 11,
   "id": "540b582b-c970-4d04-b046-3550f92ed991",
   "metadata": {},
   "outputs": [
    {
     "name": "stdin",
     "output_type": "stream",
     "text": [
      "Enter a string :  sagar bokade\n"
     ]
    },
    {
     "name": "stdout",
     "output_type": "stream",
     "text": [
      "There are 5 vowel(s) in entered string 'sagar bokade'.\n"
     ]
    }
   ],
   "source": [
    "# Taking string input from user \n",
    "input_string = str(input(\"Enter a string : \"))\n",
    "\n",
    "# Vowles string (characters needs to get counted from input string)\n",
    "vowels_string = \"aeiou\"\n",
    "\n",
    "# Variable to store the count of vowles occured in user entered string\n",
    "count = 0\n",
    "\n",
    "for chr in input_string: \n",
    "    chr_lowercase = chr.lower()\n",
    "\n",
    "    if chr_lowercase in vowels_string:\n",
    "        count += 1\n",
    "\n",
    "# display the vowels count\n",
    "print(f\"There are {count} vowel(s) in entered string '{input_string}'.\")"
   ]
  },
  {
   "cell_type": "markdown",
   "id": "309c2975-8537-4edf-9633-2188a0d3ea07",
   "metadata": {},
   "source": [
    "3. Given a string, reverse the order of characters using string slicing and print\n",
    "the reversed string."
   ]
  },
  {
   "cell_type": "code",
   "execution_count": 12,
   "id": "459f2639-b7fb-4fca-a3d3-bea37042c9b9",
   "metadata": {},
   "outputs": [
    {
     "name": "stdin",
     "output_type": "stream",
     "text": [
      "Eenter the string you wants to reverse :  Sagar Bokade\n"
     ]
    },
    {
     "name": "stdout",
     "output_type": "stream",
     "text": [
      "Reverse String will be: edakoB ragaS\n"
     ]
    }
   ],
   "source": [
    "#Taking a string as input \n",
    "input_string = str(input(\"Eenter the string you wants to reverse : \"))\n",
    "\n",
    "# performing reverse operation using string slicing \n",
    "#syntax of slicing a string is String_name[start:end:step]\n",
    "reverse_string = input_string[::-1]\n",
    "\n",
    "# printing the reversed string\n",
    "print(f\"Reverse String will be: {reverse_string}\")"
   ]
  },
  {
   "cell_type": "markdown",
   "id": "cf7bb506-aaa3-45da-99bf-9dac0b061390",
   "metadata": {},
   "source": [
    "4. Write a program that takes a string as input and checks if it is a palindrome\n",
    "(reads the same forwards and backwards)."
   ]
  },
  {
   "cell_type": "code",
   "execution_count": 14,
   "id": "30aacde0-b5ce-406b-91d6-341552caf95b",
   "metadata": {},
   "outputs": [
    {
     "name": "stdin",
     "output_type": "stream",
     "text": [
      "Enter the string to check if it is palindrome or not : Level\n"
     ]
    },
    {
     "name": "stdout",
     "output_type": "stream",
     "text": [
      " Input String :Level is a palindrome\n"
     ]
    }
   ],
   "source": [
    "# Taking a string as input from user\n",
    "input_string = str(input(\"Enter the string to check if it is palindrome or not :\"))\n",
    "\n",
    "# removing the spaces and converting whole string in lower case\n",
    "processed_string = input_string.replace(\" \",\"\").lower()\n",
    "\n",
    "# Evaluating the processed string is equals to the reversed processed string if true return it's a palindrome else not a palindrome\n",
    "if processed_string == processed_string[::-1]:\n",
    "    print(f\" Input String :{input_string} is a palindrome\")\n",
    "else:\n",
    "    print(f\" Input String :{input_string} is not a palindrome\")"
   ]
  },
  {
   "cell_type": "markdown",
   "id": "4ae705ac-6d73-4d70-9a57-1dcf7ae42356",
   "metadata": {},
   "source": [
    "5. Create a program that takes a string as input and removes all the spaces from\n",
    "it. Print the modified string without spaces."
   ]
  },
  {
   "cell_type": "code",
   "execution_count": null,
   "id": "056e6ac0-3f59-4147-9046-1632c69d333c",
   "metadata": {},
   "outputs": [],
   "source": [
    "# Taking a string as input from user.\n",
    "input_string = str(input(\"Enter the string: \"))\n",
    "\n",
    "# Remoivng the spaces from the input string by replacing the spaces.\n",
    "no_space = input_string.replace(\" \",\"\")\n",
    "\n",
    "# Displaying the input string with no spaces in it.\n",
    "print(f\"Entered string without spaces will be {no_space}\")"
   ]
  }
 ],
 "metadata": {
  "kernelspec": {
   "display_name": "Python 3 (ipykernel)",
   "language": "python",
   "name": "python3"
  },
  "language_info": {
   "codemirror_mode": {
    "name": "ipython",
    "version": 3
   },
   "file_extension": ".py",
   "mimetype": "text/x-python",
   "name": "python",
   "nbconvert_exporter": "python",
   "pygments_lexer": "ipython3",
   "version": "3.10.8"
  }
 },
 "nbformat": 4,
 "nbformat_minor": 5
}
